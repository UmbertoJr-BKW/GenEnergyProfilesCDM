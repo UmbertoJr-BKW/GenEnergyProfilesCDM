{
 "cells": [
  {
   "cell_type": "code",
   "execution_count": 1,
   "id": "02779cfd-ccf5-4364-aacf-878802a4de55",
   "metadata": {
    "tags": []
   },
   "outputs": [
    {
     "name": "stdout",
     "output_type": "stream",
     "text": [
      "./outputs/checkpoints/LSTM/3-l/512-hd/1000-T/norm-True/schedul-Sigmoid/checkpoint_21.pth\n"
     ]
    }
   ],
   "source": [
    "%load_ext autoreload\n",
    "%autoreload 2\n",
    "\n",
    "import os\n",
    "import torch\n",
    "import numpy as np\n",
    "from diffusion_models import Sampler\n",
    "from diffusion_models.denoising_models import dl_models\n",
    "from diffusion_models.noise_schedulers import cosine_schedule, sigmoid_noiseschedule\n",
    "\n",
    "\n",
    "\n",
    "#beta_min, beta_max = 1e-3, 0.2\n",
    "#T = 100\n",
    "#beta_t_cos, alpha_t_cos, alphabar_t_cos = cosine_schedule(T) \n",
    "\n",
    "\n",
    "T=1000\n",
    "ns = \"Sigmoid\"\n",
    "beta_t, alpha_t, alphabar_t = sigmoid_noiseschedule(T, start=-6, end=6, tau=0.7, clip_min=1e-9)\n",
    "\n",
    "\n",
    "\n",
    "#denoiser = dl_models.Transformer(n_steps=96, input_dim=1, T=100)\n",
    "model = \"LSTM\"\n",
    "num_layers = 3\n",
    "hdim = 512\n",
    "norm = True\n",
    "\n",
    "#checkpoint_dir = f\"./outputs/checkpoints/Transformer/3-l/64-hd/\"\n",
    "#ckpt = 100\n",
    "\n",
    "\n",
    "\n",
    "checkpoint_dir = f\"./outputs/checkpoints/{model}/{num_layers}-l/{hdim}-hd/{T}-T/norm-{norm}/schedul-{ns}\"\n",
    "ckpt = sorted([ int(i[11:-4]) for i in os.listdir(checkpoint_dir)])[-1]\n",
    "ckpt_dir = os.path.join(checkpoint_dir, f\"checkpoint_{ckpt}.pth\")\n",
    "print(ckpt_dir)\n",
    "\n",
    "denoiser = torch.load(ckpt_dir)"
   ]
  },
  {
   "cell_type": "code",
   "execution_count": null,
   "id": "5ff66b54-ed36-41f5-9084-f97067993ab2",
   "metadata": {
    "tags": []
   },
   "outputs": [],
   "source": [
    "sampling_number = 32\n",
    "only_final = False\n",
    "shape = (96, 1)\n",
    "device = \"cpu\"\n",
    "\n",
    "process = Sampler(beta_t, alpha_t, alphabar_t, denoiser, device, shape=shape)\n",
    "sample = process.sampling(sampling_number, only_final)\n",
    "#scatter(sample[9::30], only_final)\n",
    "\n",
    "sample = sample.detach().cpu().numpy()\n"
   ]
  },
  {
   "cell_type": "code",
   "execution_count": null,
   "id": "7bb8d69d-8724-40a0-a965-e61e86e5d70a",
   "metadata": {
    "tags": []
   },
   "outputs": [],
   "source": [
    "\n",
    "import matplotlib.pyplot as plt\n",
    "\n",
    "# Create a figure and a set of subplots  \n",
    "fig, ax = plt.subplots()  \n",
    "  \n",
    "# This will create a line for each row in your data. If that's too many lines,  \n",
    "# you might need to select a subset of rows to plot.  \n",
    "for i in range(sample.shape[1]):  \n",
    "    ax.plot(sample[99, i], alpha=0.3)\n",
    "    \n",
    "    \n",
    "plt.show()  "
   ]
  },
  {
   "cell_type": "code",
   "execution_count": null,
   "id": "9ccc67e1-d2f7-4ddf-81f5-e10a6d251a31",
   "metadata": {
    "tags": []
   },
   "outputs": [],
   "source": [
    "from celluloid import Camera    \n",
    "\n",
    "fig, ax = plt.subplots()  \n",
    "camera = Camera(fig)  \n",
    "for t in [i for i in range(0, 91, 10)]+[i for i in range(91, 100)]:\n",
    "    for s in range(sample.shape[1]):\n",
    "        time_sample_t = sample[t, s]\n",
    "        ax.plot(time_sample_t, alpha=0.3)  \n",
    "    \n",
    "    # Add text showing frequency  \n",
    "    text = ax.text(0.8, 0.8, f'Time: {100 - t}', transform=ax.transAxes) \n",
    "    camera.snap()  \n",
    "    \n",
    "    \n",
    "animation = camera.animate()  \n",
    "  \n",
    "# Save as GIF  \n",
    "animation.save(f'./outputs/denoising_{ns}_{T}.gif', writer='pillow')  \n",
    "  \n",
    "plt.show()  \n"
   ]
  },
  {
   "cell_type": "code",
   "execution_count": null,
   "id": "e82459d9-7898-476f-9679-b029001ab9b3",
   "metadata": {
    "tags": []
   },
   "outputs": [],
   "source": [
    "from IPython.display import Image  \n",
    "Image(filename=f'./outputs/denoising_{ns}_{T}.gif')  \n"
   ]
  },
  {
   "cell_type": "markdown",
   "id": "f628e38a-d9af-4f8a-96a7-fe3f58982809",
   "metadata": {},
   "source": [
    "## Sampling 5000 generated consumption to compare with the real ones"
   ]
  },
  {
   "cell_type": "code",
   "execution_count": null,
   "id": "7e6341fe-7cfc-4a33-9081-e5f8cc029f94",
   "metadata": {
    "tags": []
   },
   "outputs": [],
   "source": [
    "sampling_number = 5000\n",
    "only_final = True\n",
    "shape = (96, 1)\n",
    "device = \"cuda\"\n",
    "\n",
    "process = Sampler(beta_t_cos, alpha_t_cos, alphabar_t_cos, denoiser, device, shape=shape)\n",
    "sample = process.sampling(sampling_number, only_final)\n",
    "#scatter(sample[9::30], only_final)\n",
    "\n",
    "sample = sample.detach().cpu().numpy()\n",
    "\n",
    "np.save(f\"./outputs/generated_consumption_{model}_{num}{}.npy\", sample)"
   ]
  },
  {
   "cell_type": "code",
   "execution_count": null,
   "id": "616cbac7-b9e8-45a4-824f-fcd162b4fa8d",
   "metadata": {
    "tags": []
   },
   "outputs": [],
   "source": []
  },
  {
   "cell_type": "code",
   "execution_count": null,
   "id": "eb3dd75a-7014-49e2-b080-01ef19c48565",
   "metadata": {
    "tags": []
   },
   "outputs": [],
   "source": []
  },
  {
   "cell_type": "code",
   "execution_count": null,
   "id": "981c09fe-5455-4108-955b-02ca24c49657",
   "metadata": {
    "tags": []
   },
   "outputs": [],
   "source": []
  },
  {
   "cell_type": "code",
   "execution_count": null,
   "id": "1e4448a0-f212-4931-8fbf-1a60e93acff2",
   "metadata": {
    "tags": []
   },
   "outputs": [],
   "source": []
  },
  {
   "cell_type": "code",
   "execution_count": null,
   "id": "519a149f-c269-4dbd-8a7d-e59c78d99d44",
   "metadata": {},
   "outputs": [],
   "source": []
  }
 ],
 "metadata": {
  "environment": {
   "kernel": "python3",
   "name": ".m119",
   "type": "gcloud",
   "uri": "us-docker.pkg.dev/deeplearning-platform-release/gcr.io/:m119"
  },
  "kernelspec": {
   "display_name": "Python 3 (Local)",
   "language": "python",
   "name": "python3"
  },
  "language_info": {
   "codemirror_mode": {
    "name": "ipython",
    "version": 3
   },
   "file_extension": ".py",
   "mimetype": "text/x-python",
   "name": "python",
   "nbconvert_exporter": "python",
   "pygments_lexer": "ipython3",
   "version": "3.10.14"
  }
 },
 "nbformat": 4,
 "nbformat_minor": 5
}
